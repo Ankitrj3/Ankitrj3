{
  "nbformat": 4,
  "nbformat_minor": 0,
  "metadata": {
    "colab": {
      "provenance": [],
      "authorship_tag": "ABX9TyOFyc8+gskVqyG3stZJUoiH",
      "include_colab_link": true
    },
    "kernelspec": {
      "name": "python3",
      "display_name": "Python 3"
    },
    "language_info": {
      "name": "python"
    }
  },
  "cells": [
    {
      "cell_type": "markdown",
      "metadata": {
        "id": "view-in-github",
        "colab_type": "text"
      },
      "source": [
        "<a href=\"https://colab.research.google.com/github/Ankitrj3/Ankitrj3/blob/main/Python_Basics.ipynb\" target=\"_parent\"><img src=\"https://colab.research.google.com/assets/colab-badge.svg\" alt=\"Open In Colab\"/></a>"
      ]
    },
    {
      "cell_type": "markdown",
      "source": [
        "Basic Python"
      ],
      "metadata": {
        "id": "XcAWo7YE8OMa"
      }
    },
    {
      "cell_type": "code",
      "source": [
        "# Python\n",
        "# in-built function\n",
        "print('Python')"
      ],
      "metadata": {
        "colab": {
          "base_uri": "https://localhost:8080/"
        },
        "id": "bp5wr2M78QZD",
        "outputId": "89313538-79a3-436a-f036-2722339a42d9"
      },
      "execution_count": null,
      "outputs": [
        {
          "output_type": "stream",
          "name": "stdout",
          "text": [
            "Python\n"
          ]
        }
      ]
    },
    {
      "cell_type": "code",
      "source": [
        "# data type and variables\n",
        "a = input(\"Enter the Value\") #input takes the value in String only if we want to take value in another data type we need to typecast the value\n",
        "print(type(a))\n",
        "print(a)"
      ],
      "metadata": {
        "colab": {
          "base_uri": "https://localhost:8080/"
        },
        "id": "a5KFGcwM9nPh",
        "outputId": "b94cd3d8-e751-49c3-cb4a-6917d6b04738"
      },
      "execution_count": null,
      "outputs": [
        {
          "output_type": "stream",
          "name": "stdout",
          "text": [
            "Enter the Value12\n",
            "<class 'str'>\n",
            "12\n"
          ]
        }
      ]
    },
    {
      "cell_type": "code",
      "source": [
        "a = 12\n",
        "b = 34\n",
        "print(a/b)\n",
        "print(a//b) # // this round the floor value left it dosen't consider decimals"
      ],
      "metadata": {
        "colab": {
          "base_uri": "https://localhost:8080/"
        },
        "id": "r5L7eHRrOfD8",
        "outputId": "30401807-bf21-4561-e209-2e8a0fb3ac14"
      },
      "execution_count": null,
      "outputs": [
        {
          "output_type": "stream",
          "name": "stdout",
          "text": [
            "0.35294117647058826\n",
            "0\n"
          ]
        }
      ]
    },
    {
      "cell_type": "code",
      "source": [
        "a = int(input(\"Enter val 1 :\"))\n",
        "b = int(input(\"Enter val 2 :\"))\n",
        "c = int(input(\"Enter val 3 :\"))\n",
        "\n",
        "if(a>b and a>c):\n",
        "  print(\"a is greater \")\n",
        "elif(b>a and b>c):\n",
        "  print(\"b is greater \")\n",
        "else:\n",
        "  print(\"c is greater \")\n"
      ],
      "metadata": {
        "colab": {
          "base_uri": "https://localhost:8080/"
        },
        "id": "P6ll6L1QPOCq",
        "outputId": "4c239327-b6f1-4670-a7fc-d5572238f705"
      },
      "execution_count": null,
      "outputs": [
        {
          "output_type": "stream",
          "name": "stdout",
          "text": [
            "Enter val 1 :12\n",
            "Enter val 2 :4\n",
            "Enter val 3 :34\n",
            "c is greater \n"
          ]
        }
      ]
    },
    {
      "cell_type": "markdown",
      "source": [
        "Strings\n"
      ],
      "metadata": {
        "id": "irmNK4QLRXH3"
      }
    },
    {
      "cell_type": "code",
      "source": [
        "a = \"ankit ranjan\"\n",
        "print(a)\n",
        "# String is a Data Structure and Dynamic Data Type\n",
        "type(a)\n",
        "\n",
        "p = input(\"Enter String\")\n",
        "print(p)\n",
        "type(p)"
      ],
      "metadata": {
        "colab": {
          "base_uri": "https://localhost:8080/"
        },
        "id": "YP5h9Dm4RZE2",
        "outputId": "24d096bf-208c-4e39-b08a-2542aeffec51"
      },
      "execution_count": null,
      "outputs": [
        {
          "output_type": "stream",
          "name": "stdout",
          "text": [
            "ankit ranjan\n",
            "Enter Stringrockey\n",
            "rockey\n"
          ]
        },
        {
          "output_type": "execute_result",
          "data": {
            "text/plain": [
              "str"
            ]
          },
          "metadata": {},
          "execution_count": 9
        }
      ]
    },
    {
      "cell_type": "code",
      "source": [
        "a = input(\"Enter the String\")\n",
        "b = int(input(\"Enter the val\"))\n",
        "# print(a+b) we can't concatinate string and integer"
      ],
      "metadata": {
        "colab": {
          "base_uri": "https://localhost:8080/",
          "height": 216
        },
        "id": "q-r5ksmSUa9Y",
        "outputId": "862d83a0-9f1e-4eab-94fc-47ff2b0d3bb5"
      },
      "execution_count": null,
      "outputs": [
        {
          "name": "stdout",
          "output_type": "stream",
          "text": [
            "Enter the Stringankir\n",
            "Enter the val12\n"
          ]
        },
        {
          "output_type": "error",
          "ename": "TypeError",
          "evalue": "can only concatenate str (not \"int\") to str",
          "traceback": [
            "\u001b[0;31m---------------------------------------------------------------------------\u001b[0m",
            "\u001b[0;31mTypeError\u001b[0m                                 Traceback (most recent call last)",
            "\u001b[0;32m/tmp/ipython-input-10-2684669758.py\u001b[0m in \u001b[0;36m<cell line: 0>\u001b[0;34m()\u001b[0m\n\u001b[1;32m      1\u001b[0m \u001b[0ma\u001b[0m \u001b[0;34m=\u001b[0m \u001b[0minput\u001b[0m\u001b[0;34m(\u001b[0m\u001b[0;34m\"Enter the String\"\u001b[0m\u001b[0;34m)\u001b[0m\u001b[0;34m\u001b[0m\u001b[0;34m\u001b[0m\u001b[0m\n\u001b[1;32m      2\u001b[0m \u001b[0mb\u001b[0m \u001b[0;34m=\u001b[0m \u001b[0mint\u001b[0m\u001b[0;34m(\u001b[0m\u001b[0minput\u001b[0m\u001b[0;34m(\u001b[0m\u001b[0;34m\"Enter the val\"\u001b[0m\u001b[0;34m)\u001b[0m\u001b[0;34m)\u001b[0m\u001b[0;34m\u001b[0m\u001b[0;34m\u001b[0m\u001b[0m\n\u001b[0;32m----> 3\u001b[0;31m \u001b[0mprint\u001b[0m\u001b[0;34m(\u001b[0m\u001b[0ma\u001b[0m\u001b[0;34m+\u001b[0m\u001b[0mb\u001b[0m\u001b[0;34m)\u001b[0m\u001b[0;34m\u001b[0m\u001b[0;34m\u001b[0m\u001b[0m\n\u001b[0m",
            "\u001b[0;31mTypeError\u001b[0m: can only concatenate str (not \"int\") to str"
          ]
        }
      ]
    },
    {
      "cell_type": "code",
      "source": [
        "a = int(input(\"Enter the val 1 : \"))\n",
        "b = int(input(\"Enter the val 2 : \"))\n",
        "print('max value : ',max(a,b))\n",
        "print('min value : ',min(a,b))"
      ],
      "metadata": {
        "colab": {
          "base_uri": "https://localhost:8080/"
        },
        "id": "pp8GsQOuVKdr",
        "outputId": "03eb5b64-ea93-4737-a528-a8f26a98e161"
      },
      "execution_count": null,
      "outputs": [
        {
          "output_type": "stream",
          "name": "stdout",
          "text": [
            "Enter the val 1 : 2\n",
            "Enter the val 2 : 3\n",
            "max value :  3\n",
            "2\n"
          ]
        }
      ]
    },
    {
      "cell_type": "code",
      "source": [
        "a = 'ankit ranjan'\n",
        "print(a.split())"
      ],
      "metadata": {
        "colab": {
          "base_uri": "https://localhost:8080/"
        },
        "id": "7JUDUvulWUfr",
        "outputId": "e7aa960e-fe3a-4ab1-f705-f92be5f8e296"
      },
      "execution_count": null,
      "outputs": [
        {
          "output_type": "stream",
          "name": "stdout",
          "text": [
            "['ankit', 'ranjan']\n"
          ]
        }
      ]
    },
    {
      "cell_type": "code",
      "source": [
        "a,b,c,d,e,f = map(str,input(\"Enter a sentence : \").split()) # map(datatype,value)\n",
        "print(a,b,c,d,e,f)\n",
        "print(b)"
      ],
      "metadata": {
        "colab": {
          "base_uri": "https://localhost:8080/"
        },
        "id": "lLM34y5eXuC8",
        "outputId": "fbcb0947-4f1f-44d7-df0d-b5462f1e6fc8"
      },
      "execution_count": null,
      "outputs": [
        {
          "output_type": "stream",
          "name": "stdout",
          "text": [
            "Enter a sentence : ankit is best friend of likhitha\n",
            "ankit is best friend of likhitha\n",
            "is\n"
          ]
        }
      ]
    },
    {
      "cell_type": "code",
      "source": [
        "# a,b,c,d,e = int(input()).split()  we can't split number in this way with typecast only split string in this way but this is not best practice\n",
        "# a,b,c = input().split()\n",
        "# print(a,b,c)\n",
        "# for integers\n",
        "a,b,c = map(int,input(\"Enter the value\").split());\n",
        "print(a,b,c)\n",
        "type(a)\n",
        "type(b)\n",
        "type(c)"
      ],
      "metadata": {
        "colab": {
          "base_uri": "https://localhost:8080/"
        },
        "id": "5Nj9cOs-Y1yV",
        "outputId": "0bc306d0-0197-407f-c3f8-a9595f599e09"
      },
      "execution_count": null,
      "outputs": [
        {
          "output_type": "stream",
          "name": "stdout",
          "text": [
            "ENter the value12 34 23\n",
            "12 34 23\n"
          ]
        },
        {
          "output_type": "execute_result",
          "data": {
            "text/plain": [
              "int"
            ]
          },
          "metadata": {},
          "execution_count": 25
        }
      ]
    },
    {
      "cell_type": "code",
      "source": [
        "a = \"ankit\"\n",
        "# String is immutable data structure\n",
        "print(len(a))\n",
        "a[3]\n",
        "print(a[3])\n",
        "print(type(a))\n",
        "a[4] = 'l' # we can't change the value\n",
        "print(a)\n"
      ],
      "metadata": {
        "colab": {
          "base_uri": "https://localhost:8080/",
          "height": 251
        },
        "id": "6hw4zAGxcE5g",
        "outputId": "83777cf0-eeb7-47a2-993e-4c3890086e05"
      },
      "execution_count": null,
      "outputs": [
        {
          "output_type": "stream",
          "name": "stdout",
          "text": [
            "5\n",
            "i\n",
            "<class 'str'>\n"
          ]
        },
        {
          "output_type": "error",
          "ename": "TypeError",
          "evalue": "'str' object does not support item assignment",
          "traceback": [
            "\u001b[0;31m---------------------------------------------------------------------------\u001b[0m",
            "\u001b[0;31mTypeError\u001b[0m                                 Traceback (most recent call last)",
            "\u001b[0;32m/tmp/ipython-input-31-486732239.py\u001b[0m in \u001b[0;36m<cell line: 0>\u001b[0;34m()\u001b[0m\n\u001b[1;32m      4\u001b[0m \u001b[0mprint\u001b[0m\u001b[0;34m(\u001b[0m\u001b[0ma\u001b[0m\u001b[0;34m[\u001b[0m\u001b[0;36m3\u001b[0m\u001b[0;34m]\u001b[0m\u001b[0;34m)\u001b[0m\u001b[0;34m\u001b[0m\u001b[0;34m\u001b[0m\u001b[0m\n\u001b[1;32m      5\u001b[0m \u001b[0mprint\u001b[0m\u001b[0;34m(\u001b[0m\u001b[0mtype\u001b[0m\u001b[0;34m(\u001b[0m\u001b[0ma\u001b[0m\u001b[0;34m)\u001b[0m\u001b[0;34m)\u001b[0m\u001b[0;34m\u001b[0m\u001b[0;34m\u001b[0m\u001b[0m\n\u001b[0;32m----> 6\u001b[0;31m \u001b[0ma\u001b[0m\u001b[0;34m[\u001b[0m\u001b[0;36m4\u001b[0m\u001b[0;34m]\u001b[0m \u001b[0;34m=\u001b[0m \u001b[0;34m\"l\"\u001b[0m\u001b[0;34m\u001b[0m\u001b[0;34m\u001b[0m\u001b[0m\n\u001b[0m\u001b[1;32m      7\u001b[0m \u001b[0mprint\u001b[0m\u001b[0;34m(\u001b[0m\u001b[0ma\u001b[0m\u001b[0;34m)\u001b[0m\u001b[0;34m\u001b[0m\u001b[0;34m\u001b[0m\u001b[0m\n",
            "\u001b[0;31mTypeError\u001b[0m: 'str' object does not support item assignment"
          ]
        }
      ]
    },
    {
      "cell_type": "code",
      "source": [
        "a = 'ankitranjan'\n",
        "# slicing\n",
        "# a[start: end-1: skip-1]\n",
        "print(a[2:5])\n",
        "print(a[2:11:3])\n",
        "print(a[1:5:2])\n",
        "\n",
        "# positive slicing start < end\n",
        "# negative slicing start > end\n",
        "print(a[-1:-10:-2])"
      ],
      "metadata": {
        "colab": {
          "base_uri": "https://localhost:8080/"
        },
        "id": "Ba_smR-bekAE",
        "outputId": "014528c8-1531-4698-91e9-13a05d9242d4"
      },
      "execution_count": null,
      "outputs": [
        {
          "output_type": "stream",
          "name": "stdout",
          "text": [
            "kit\n",
            "krj\n",
            "ni\n",
            "njatk\n"
          ]
        }
      ]
    },
    {
      "cell_type": "code",
      "source": [
        "a = 'Bangalore'\n",
        "print(a[-1])\n",
        "print(a[::-1])"
      ],
      "metadata": {
        "colab": {
          "base_uri": "https://localhost:8080/"
        },
        "id": "5alY87yhqalv",
        "outputId": "ee9c6ed0-ef79-4fe0-d34d-7c616545e375"
      },
      "execution_count": 60,
      "outputs": [
        {
          "output_type": "stream",
          "name": "stdout",
          "text": [
            "e\n",
            "erolagnaB\n"
          ]
        }
      ]
    },
    {
      "cell_type": "code",
      "source": [
        "a = 'Bangalore'\n",
        "print(a[-1:-4:-2])\n",
        "print(a[-1:-5:-1])"
      ],
      "metadata": {
        "id": "84vHTq9grStc",
        "colab": {
          "base_uri": "https://localhost:8080/"
        },
        "outputId": "32d97478-78c6-4a55-f94d-aab6ab6f0ee4"
      },
      "execution_count": 62,
      "outputs": [
        {
          "output_type": "stream",
          "name": "stdout",
          "text": [
            "eo\n",
            "erol\n"
          ]
        }
      ]
    },
    {
      "cell_type": "code",
      "source": [
        "a = 'Bangalore'\n",
        "print(a[-5:-1:-2])# no output will give beacuse start is less"
      ],
      "metadata": {
        "colab": {
          "base_uri": "https://localhost:8080/"
        },
        "id": "Yr43A-5kthR6",
        "outputId": "4c28eaa6-71f6-4f13-abf2-380c01479dac"
      },
      "execution_count": 63,
      "outputs": [
        {
          "output_type": "stream",
          "name": "stdout",
          "text": [
            "\n"
          ]
        }
      ]
    },
    {
      "cell_type": "code",
      "source": [
        "a = 'ankit'\n",
        "if 'ki' in a: # this slicing window concept to match the string\n",
        "  print('yes')\n",
        "else:\n",
        "  print('No')\n",
        "b = 'rockey'\n",
        "if 'ky' in b:\n",
        "  print('yes')\n",
        "else:\n",
        "  print('No')"
      ],
      "metadata": {
        "colab": {
          "base_uri": "https://localhost:8080/"
        },
        "id": "wqE8P1ISv7H9",
        "outputId": "80983163-134c-4836-8e33-24dea4ed2e2e"
      },
      "execution_count": 68,
      "outputs": [
        {
          "output_type": "stream",
          "name": "stdout",
          "text": [
            "yes\n",
            "No\n"
          ]
        }
      ]
    },
    {
      "cell_type": "code",
      "source": [
        "a = input('Enter the value : ')\n",
        "b = a[::-1]\n",
        "if(a==b):\n",
        "  print(\"palindrome\")\n",
        "else:\n",
        "  print(\"not palindrome\")"
      ],
      "metadata": {
        "colab": {
          "base_uri": "https://localhost:8080/"
        },
        "id": "-PBtRM63zAqO",
        "outputId": "37a0b297-93bd-4d09-c007-b7d6cd511360"
      },
      "execution_count": 70,
      "outputs": [
        {
          "output_type": "stream",
          "name": "stdout",
          "text": [
            "Enter the value : ana\n",
            "palindrome\n"
          ]
        }
      ]
    },
    {
      "cell_type": "code",
      "source": [
        "a = int(input('enter the value : '))\n",
        "b = str(a)\n",
        "if b == b[::-1]:\n",
        "  print('palindrome')\n",
        "else:\n",
        "  print('not palindrome')"
      ],
      "metadata": {
        "colab": {
          "base_uri": "https://localhost:8080/"
        },
        "id": "pbRMgln9zknO",
        "outputId": "269e9766-6111-4e93-bb8e-e1aa93c22aba"
      },
      "execution_count": 76,
      "outputs": [
        {
          "output_type": "stream",
          "name": "stdout",
          "text": [
            "enter the value : 1233321\n",
            "palindrome\n"
          ]
        }
      ]
    },
    {
      "cell_type": "code",
      "source": [
        "# Loops\n",
        "\n",
        "# for loop\n",
        "# two ways to write for loop\n",
        "\n",
        "a = \"ankit\"\n",
        "for i in range(0,10,3):\n",
        "  print(i,'->',a)\n",
        "\n",
        "for i in a:\n",
        "  # print(i)\n",
        "  print(a)\n"
      ],
      "metadata": {
        "colab": {
          "base_uri": "https://localhost:8080/"
        },
        "id": "_6HUhGUe0XB2",
        "outputId": "b3de4ad6-d250-4289-be3a-17bf5cbb090a"
      },
      "execution_count": 84,
      "outputs": [
        {
          "output_type": "stream",
          "name": "stdout",
          "text": [
            "0 -> ankit\n",
            "3 -> ankit\n",
            "6 -> ankit\n",
            "9 -> ankit\n",
            "ankit\n",
            "ankit\n",
            "ankit\n",
            "ankit\n",
            "ankit\n"
          ]
        }
      ]
    },
    {
      "cell_type": "code",
      "source": [
        "# while\n",
        "i = 1\n",
        "while(i<=10):\n",
        "  print(i)\n",
        "  i+=1"
      ],
      "metadata": {
        "colab": {
          "base_uri": "https://localhost:8080/"
        },
        "id": "SSWohVhc2DLt",
        "outputId": "11dfa330-acd8-4005-9228-6f6c17150dc2"
      },
      "execution_count": 87,
      "outputs": [
        {
          "output_type": "stream",
          "name": "stdout",
          "text": [
            "1\n",
            "2\n",
            "3\n",
            "4\n",
            "5\n",
            "6\n",
            "7\n",
            "8\n",
            "9\n",
            "10\n"
          ]
        }
      ]
    },
    {
      "cell_type": "code",
      "source": [
        "a = input(\"Enter the name \")\n",
        "count = 0\n",
        "for i in a:\n",
        "  # if i == 'a' or i=='e' or i=='i' or i=='o' or i=='u': # two ways to do\n",
        "  if i in ('a','e','i','o','u'):\n",
        "    count += 1\n",
        "print('vowels in name ',count)"
      ],
      "metadata": {
        "colab": {
          "base_uri": "https://localhost:8080/"
        },
        "id": "N9t-4wYy2U6U",
        "outputId": "cd40413f-43da-4908-c1e3-876cc052c6c5"
      },
      "execution_count": 90,
      "outputs": [
        {
          "output_type": "stream",
          "name": "stdout",
          "text": [
            "Enter the name ankit ranjan\n",
            "vowels in name  4\n"
          ]
        }
      ]
    },
    {
      "cell_type": "code",
      "source": [
        "a = input(\"Enter a String value : \")\n",
        "# for i in range(0,len(a)):\n",
        "#   print(a[i])\n",
        "\n",
        "for i in a:\n",
        "  print(i)\n"
      ],
      "metadata": {
        "colab": {
          "base_uri": "https://localhost:8080/"
        },
        "id": "rHheUxtx8SL-",
        "outputId": "11b29733-347a-470c-a6ad-8d5891d54e68"
      },
      "execution_count": 93,
      "outputs": [
        {
          "output_type": "stream",
          "name": "stdout",
          "text": [
            "Enter a String value : ankit\n",
            "a\n",
            "n\n",
            "k\n",
            "i\n",
            "t\n"
          ]
        }
      ]
    },
    {
      "cell_type": "code",
      "source": [
        "# palindrome\n",
        "a = input('enter the value')\n",
        "b = ''\n",
        "# for i in a:\n",
        "#   b = b+i\n",
        "# print(b)\n",
        "\n",
        "# for reversing string\n",
        "for i in a:\n",
        "  b = i+b\n",
        "print(b)\n",
        "\n",
        "if a == b :\n",
        "  print('palindrome')\n",
        "else:\n",
        "  print('not palindrome')"
      ],
      "metadata": {
        "colab": {
          "base_uri": "https://localhost:8080/"
        },
        "id": "1bGIVFwM-xCq",
        "outputId": "dca687bf-88d3-4803-fbba-e3a38804f3dd"
      },
      "execution_count": 98,
      "outputs": [
        {
          "output_type": "stream",
          "name": "stdout",
          "text": [
            "enter the valueanna\n",
            "anna\n",
            "palindrome\n"
          ]
        }
      ]
    },
    {
      "cell_type": "code",
      "source": [
        "a = input('enter the value : ')\n",
        "b = ''\n",
        "for i in range (0,len(a)):\n",
        "  b = a[i] + b\n",
        "\n",
        "if a == b:\n",
        "  print('palindrome')\n",
        "else:\n",
        "  print('not palindrome')"
      ],
      "metadata": {
        "colab": {
          "base_uri": "https://localhost:8080/"
        },
        "id": "7sHSvk5sAOmT",
        "outputId": "1fea3e15-a2e2-4a08-bce3-9e27292a8c09"
      },
      "execution_count": 109,
      "outputs": [
        {
          "output_type": "stream",
          "name": "stdout",
          "text": [
            "enter the value : ana\n",
            "palindrome\n"
          ]
        }
      ]
    },
    {
      "cell_type": "code",
      "source": [
        "# reverse the number without using slicing\n",
        "a = 1232\n",
        "reverse = 0\n",
        "while(a > 0):\n",
        "  remainder = a%10\n",
        "  reverse = (reverse*10) + remainder\n",
        "  a = a//10\n",
        "print(reverse)\n",
        ""
      ],
      "metadata": {
        "colab": {
          "base_uri": "https://localhost:8080/"
        },
        "id": "41HMCzzbB2Oo",
        "outputId": "ab7aa74f-76dd-4614-bccf-6da41880e889"
      },
      "execution_count": 111,
      "outputs": [
        {
          "output_type": "stream",
          "name": "stdout",
          "text": [
            "2321\n"
          ]
        }
      ]
    },
    {
      "cell_type": "markdown",
      "source": [],
      "metadata": {
        "id": "pLDWYMjw2Uds"
      }
    },
    {
      "cell_type": "code",
      "source": [
        "# List Data Structure\n",
        "# List is mutable\n",
        "\n",
        "l=[12,23,45,'ankit','ranjan']\n",
        "print(l)\n",
        "l[4] = 'rockey'\n",
        "l1 = []\n",
        "print(l1)\n",
        "l1.append(23)\n",
        "l1.append(2)\n",
        "print(l1)\n",
        "l1.insert(0,2)\n",
        "print(l1)"
      ],
      "metadata": {
        "colab": {
          "base_uri": "https://localhost:8080/"
        },
        "id": "7g46FVzADNEx",
        "outputId": "1b8fe660-ec82-469f-98b9-cbe93d854f6b"
      },
      "execution_count": 120,
      "outputs": [
        {
          "output_type": "stream",
          "name": "stdout",
          "text": [
            "[12, 23, 45, 'ankit', 'ranjan']\n",
            "[]\n",
            "[23, 2]\n",
            "[2, 23, 2]\n"
          ]
        }
      ]
    },
    {
      "cell_type": "code",
      "source": [
        "l = [12,34,243,23,56,67]\n",
        "print(l.pop(1))\n",
        "print(l)\n",
        "\n",
        "# how to run loop in a list\n",
        "for i in l:\n",
        "  print(i,end=' ' )\n",
        "\n",
        "# for i in l:\n",
        "#   print(i)"
      ],
      "metadata": {
        "colab": {
          "base_uri": "https://localhost:8080/"
        },
        "id": "fr3JZx2RD_C_",
        "outputId": "5edc7c13-89b5-4097-8b4d-5b874dff88ad"
      },
      "execution_count": 130,
      "outputs": [
        {
          "output_type": "stream",
          "name": "stdout",
          "text": [
            "34\n",
            "[12, 243, 23, 56, 67]\n",
            "12 243 23 56 67 "
          ]
        }
      ]
    },
    {
      "cell_type": "code",
      "source": [
        "# count in list\n",
        "\n",
        "l = [12,34,5,12,34,12,21,12,12]\n",
        "\n",
        "l.count(12)\n",
        "print(count)\n",
        "\n",
        "for i in range(0,len(l)):\n",
        "  print(i)"
      ],
      "metadata": {
        "colab": {
          "base_uri": "https://localhost:8080/"
        },
        "id": "_5JF3eDxEyDC",
        "outputId": "52c57a38-f561-48ad-83ea-6f96f1007a0c"
      },
      "execution_count": 133,
      "outputs": [
        {
          "output_type": "stream",
          "name": "stdout",
          "text": [
            "4\n",
            "0\n",
            "1\n",
            "2\n",
            "3\n",
            "4\n",
            "5\n",
            "6\n",
            "7\n",
            "8\n"
          ]
        }
      ]
    },
    {
      "cell_type": "code",
      "source": [
        "# l = [12,34,2,34,5,3,45,7,1]\n",
        "# k = 8\n",
        "l = [12,34,2,34,5,3,45,7,1]\n",
        "k=8\n",
        "for i in range(0 , len(l)):\n",
        "  for j in range(i+1 , len(l)):\n",
        "    if l[i]+l[j] == k:\n",
        "      print(l[i] , l[j])"
      ],
      "metadata": {
        "colab": {
          "base_uri": "https://localhost:8080/"
        },
        "id": "dDi5hZLaF8AJ",
        "outputId": "4f8f4861-f2ca-4f8e-90d0-0665265875aa"
      },
      "execution_count": 136,
      "outputs": [
        {
          "output_type": "stream",
          "name": "stdout",
          "text": [
            "5 3\n",
            "7 1\n"
          ]
        }
      ]
    },
    {
      "cell_type": "code",
      "source": [
        "# reverse a list\n",
        "l1 = [12,34,2,5,23]\n",
        "reverse = []\n",
        "for i in range(0,len(l1)):\n",
        "  reverse.insert(0,l1[i])\n",
        "print(reverse)"
      ],
      "metadata": {
        "colab": {
          "base_uri": "https://localhost:8080/"
        },
        "id": "J_33PCCDH83z",
        "outputId": "9660f261-03ab-46a5-cf1f-faae8a3dce23"
      },
      "execution_count": 142,
      "outputs": [
        {
          "output_type": "stream",
          "name": "stdout",
          "text": [
            "[23, 5, 2, 34, 12]\n"
          ]
        }
      ]
    },
    {
      "cell_type": "code",
      "source": [
        "# write a code find the duplicate from list\n",
        "lst = list(map(int,input(\"Enter the value in list : \").split()))\n",
        "s = []# An a element is seen or not\n",
        "duplicate = []\n",
        "for i in lst:\n",
        "  if i in s:\n",
        "    if i not in duplicate:\n",
        "      duplicate.append(i)\n",
        "  else:\n",
        "    s.append(i)\n",
        "print(duplicate)\n",
        "print(s)"
      ],
      "metadata": {
        "colab": {
          "base_uri": "https://localhost:8080/"
        },
        "id": "Kv8y7nIuIyMz",
        "outputId": "ebbabf65-b246-42f0-8896-012af7d0414d"
      },
      "execution_count": 146,
      "outputs": [
        {
          "output_type": "stream",
          "name": "stdout",
          "text": [
            "Enter the value in list : 12 34 23 34 12 56\n",
            "[34, 12]\n",
            "[12, 34, 23, 56]\n"
          ]
        }
      ]
    },
    {
      "cell_type": "code",
      "source": [
        "# write a program to sort the list\n",
        "\n",
        "lst = list(map(int,input('enter the values in list : ').split()))\n",
        "for i in range(0,len(lst)):\n",
        "  for j in range(i+1,len(lst)):\n",
        "    if(lst[i]>lst[j]):\n",
        "      temp = lst[i]\n",
        "      lst[i] = lst[j]\n",
        "      lst[j] = temp\n",
        "\n",
        "print(lst)"
      ],
      "metadata": {
        "colab": {
          "base_uri": "https://localhost:8080/"
        },
        "id": "4lz9LsLtNeco",
        "outputId": "90dc0654-4473-41dd-aeb6-c9c6a887f841"
      },
      "execution_count": 145,
      "outputs": [
        {
          "output_type": "stream",
          "name": "stdout",
          "text": [
            "enter the values in list : 12 34 23 4 4 2 1 56 2 3 6 7\n",
            "[1, 2, 2, 3, 4, 4, 6, 7, 12, 23, 34, 56]\n"
          ]
        }
      ]
    }
  ]
}